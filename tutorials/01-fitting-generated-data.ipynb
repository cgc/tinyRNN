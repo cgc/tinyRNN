{
 "cells": [
  {
   "cell_type": "code",
   "execution_count": 7,
   "id": "7889fd75",
   "metadata": {},
   "outputs": [],
   "source": [
    "# Run in parent directory\n",
    "import os\n",
    "if os.getcwd().split('/')[-1] != 'tinyRNN':\n",
    "    os.chdir('..')\n",
    "assert os.getcwd().split('/')[-1] == 'tinyRNN'"
   ]
  },
  {
   "cell_type": "code",
   "execution_count": 15,
   "id": "75b4c39f",
   "metadata": {},
   "outputs": [
    {
     "name": "stdout",
     "output_type": "stream",
     "text": [
      "The autoreload extension is already loaded. To reload it, use:\n",
      "  %reload_ext autoreload\n"
     ]
    }
   ],
   "source": [
    "import numpy as np\n",
    "\n",
    "import sys\n",
    "sys.path.append(os.getcwd() + '/simulating_experiments')\n",
    "sys.path.append(os.getcwd() + '/plotting_experiments')\n",
    "\n",
    "%load_ext autoreload\n",
    "%autoreload 2"
   ]
  },
  {
   "cell_type": "markdown",
   "id": "94f634b2",
   "metadata": {},
   "source": [
    "# Generate simulated dataset\n",
    "\n",
    "This is not the typical place to start for a data analysis, but it helps connect all the pieces together with a simple task."
   ]
  },
  {
   "cell_type": "markdown",
   "id": "a6c15811",
   "metadata": {},
   "source": [
    "## Make a task\n",
    "\n",
    "Here, we're examining a simple 2-armed Bernoulli bandit, where each arm's reward probability is sampled uniformly from $[0, 1]$."
   ]
  },
  {
   "cell_type": "code",
   "execution_count": 16,
   "id": "d5ea6aec",
   "metadata": {},
   "outputs": [],
   "source": [
    "class MultiArmedBandit:\n",
    "    '''2-armed Bernoulli bandit'''\n",
    "    def __init__(self, n_actions=2):\n",
    "        self.n_actions = n_actions\n",
    "\n",
    "    def reset(self, n_trials=None):\n",
    "        self.probs = np.random.uniform(0, 1, size=self.n_actions)\n",
    "\n",
    "    def trial(self, choice):\n",
    "        outcome = np.random.binomial(1, self.probs[choice])\n",
    "        return (choice, outcome)"
   ]
  },
  {
   "cell_type": "markdown",
   "id": "a86a792e",
   "metadata": {},
   "source": [
    "## Initialize MF agent\n",
    "\n",
    "For our agent, we'll use a simple model-free RL agent."
   ]
  },
  {
   "cell_type": "code",
   "execution_count": 17,
   "id": "25947b3e",
   "metadata": {},
   "outputs": [],
   "source": [
    "from agents.MABCogAgent import MABCogAgent\n",
    "\n",
    "mf = MABCogAgent(dict(cog_type='MF', n_actions=2))\n",
    "mf.model.params[mf.model.param_names.index('iTemp')] = 2."
   ]
  },
  {
   "cell_type": "code",
   "execution_count": 18,
   "id": "b2b6449a",
   "metadata": {},
   "outputs": [
    {
     "data": {
      "text/plain": [
       "{'Q_td': array([[0.   , 0.   ],\n",
       "        [0.   , 0.   ],\n",
       "        [0.   , 0.   ],\n",
       "        [0.   , 0.5  ],\n",
       "        [0.   , 0.75 ],\n",
       "        [0.   , 0.875]]),\n",
       " 'scores': array([[0.  , 0.  ],\n",
       "        [0.  , 0.  ],\n",
       "        [0.  , 0.  ],\n",
       "        [0.  , 1.  ],\n",
       "        [0.  , 1.5 ],\n",
       "        [0.  , 1.75]]),\n",
       " 'choice_probs': array([[0.5       , 0.5       ],\n",
       "        [0.5       , 0.5       ],\n",
       "        [0.5       , 0.5       ],\n",
       "        [0.26894142, 0.73105858],\n",
       "        [0.18242552, 0.81757448],\n",
       "        [0.1480472 , 0.8519528 ]]),\n",
       " 'trial_log_likelihood': array([-0.69314718, -0.69314718, -0.69314718, -0.31326169, -0.20141328]),\n",
       " 'session_log_likelihood': np.float64(-2.594116507180811),\n",
       " 'n_trials': 5,\n",
       " 'choices': array([0, 0, 1, 1, 1]),\n",
       " 'second_steps': array([0, 0, 1, 1, 1]),\n",
       " 'outcomes': array([0, 0, 1, 1, 1])}"
      ]
     },
     "execution_count": 18,
     "metadata": {},
     "output_type": "execute_result"
    }
   ],
   "source": [
    "mf.simulate(MultiArmedBandit(), 5, get_DVs=True)"
   ]
  },
  {
   "cell_type": "markdown",
   "id": "163b3cff",
   "metadata": {},
   "source": [
    "## Showing the data format\n",
    "\n",
    "Here, we are sampling a small dataset in order to show the relevant keys for a dataset. In particular, a dataset should contain the following key/value pairs, where each value is a list (for each block) of arrays (for each block's trial).\n",
    "\n",
    "- `action`, which is the action taken at the current trial.\n",
    "- `reward`, which is the reward received at the current trial, as a result of the action.\n",
    "- `stage2`, which is the observation received at the current trial, as a result of the action.\n",
    "\n",
    "The `trial_type` field is important for visualization later on, but can be left out when initially coding things up."
   ]
  },
  {
   "cell_type": "code",
   "execution_count": 19,
   "id": "51ecb626",
   "metadata": {},
   "outputs": [
    {
     "name": "stdout",
     "output_type": "stream",
     "text": [
      "Simulating agent MF with params [0.5, 2.0]\n",
      "n_blocks 3 n_trials 5 sim_seed 42 sim_exp_name test additional_name \n",
      "dict_keys(['action', 'stage2', 'reward', 'params', 'mid_vars', 'trial_type'])\n"
     ]
    },
    {
     "data": {
      "text/plain": [
       "{'action': [array([1, 0, 1, 1, 1]),\n",
       "  array([1, 1, 0, 1, 0]),\n",
       "  array([0, 1, 0, 0, 1])],\n",
       " 'stage2': [array([1, 0, 1, 1, 1]),\n",
       "  array([1, 1, 0, 1, 0]),\n",
       "  array([0, 1, 0, 0, 1])],\n",
       " 'reward': [array([1, 0, 1, 1, 1]),\n",
       "  array([0, 1, 0, 0, 1]),\n",
       "  array([0, 0, 0, 0, 0])],\n",
       " 'trial_type': [array([3, 0, 3, 3, 3]),\n",
       "  array([2, 3, 0, 2, 1]),\n",
       "  array([0, 2, 0, 0, 2])]}"
      ]
     },
     "execution_count": 19,
     "metadata": {},
     "output_type": "execute_result"
    }
   ],
   "source": [
    "from simulating_experiments.simulate_experiment import simulate_exp\n",
    "config = dict(\n",
    "    n_blocks=3, n_trials=5, sim_seed=42, sim_exp_name='test', additional_name='',\n",
    "    task='BartoloMonkey',\n",
    ")\n",
    "_ = simulate_exp(mf, MultiArmedBandit(), config)\n",
    "\n",
    "from datasets.dataset_utils import Dataset\n",
    "ds = Dataset(\n",
    "    'SimAgent',\n",
    "    behav_data_spec={\n",
    "        'agent_path': ['test'],\n",
    "        'agent_name': 'MF_seed42',\n",
    "    },\n",
    "    verbose=False\n",
    ")\n",
    "ds.behav_to(dict(behav_format='tensor'))\n",
    "print(ds.behav.keys())\n",
    "relevant_keys = ['action', 'stage2', 'reward', 'trial_type']\n",
    "{\n",
    "    k: ds.behav[k]\n",
    "    for k in relevant_keys\n",
    "}"
   ]
  },
  {
   "cell_type": "markdown",
   "id": "eaa01a3e",
   "metadata": {},
   "source": [
    "## Generate a larger dataset for training"
   ]
  },
  {
   "cell_type": "code",
   "execution_count": 20,
   "id": "76f15ea1",
   "metadata": {},
   "outputs": [
    {
     "name": "stdout",
     "output_type": "stream",
     "text": [
      "Simulating agent MF with params [0.5, 2.0]\n",
      "n_blocks 500 n_trials 20 sim_seed 42 sim_exp_name test additional_name \n"
     ]
    }
   ],
   "source": [
    "from simulating_experiments.simulate_experiment import simulate_exp\n",
    "config = dict(\n",
    "    n_blocks=500, n_trials=20, sim_seed=42, sim_exp_name='test', additional_name='',\n",
    "    task='BartoloMonkey',\n",
    ")\n",
    "_ = simulate_exp(mf, MultiArmedBandit(), config)"
   ]
  },
  {
   "cell_type": "markdown",
   "id": "c7cc6cda",
   "metadata": {},
   "source": [
    "# Training\n",
    "\n",
    "Note: this will take a few minutes! But subsequent executions will load saved model."
   ]
  },
  {
   "cell_type": "code",
   "execution_count": 21,
   "id": "ac9e625b",
   "metadata": {},
   "outputs": [
    {
     "name": "stdout",
     "output_type": "stream",
     "text": [
      "{'dataset': 'SimAgent',\n",
      " 'behav_data_spec': {'agent_path': ['test'], 'agent_name': 'MF_seed42'},\n",
      " 'behav_format': 'tensor',\n",
      " 'agent_type': 'RNN',\n",
      " 'rnn_type': 'GRU',\n",
      " 'include_embedding': False,\n",
      " 'input_dim': 3,\n",
      " 'hidden_dim': 1,\n",
      " 'output_dim': 2,\n",
      " 'output_h0': True,\n",
      " 'trainable_h0': False,\n",
      " 'readout_FC': True,\n",
      " 'one_hot': False,\n",
      " 'device': 'cpu',\n",
      " 'lr': 0.005,\n",
      " 'l1_weight': 1e-05,\n",
      " 'weight_decay': 0,\n",
      " 'penalized_weight': 'rec',\n",
      " 'max_epoch_num': 10000,\n",
      " 'early_stop_counter': 200,\n",
      " 'batch_size': 0,\n",
      " 'outer_splits': 3,\n",
      " 'inner_splits': 2,\n",
      " 'seed_num': 2,\n",
      " 'save_model_pass': 'minimal',\n",
      " 'training_diagnose': [],\n",
      " 'exp_folder': 'sim_mf',\n",
      " 'model_path': 'sim_mf/hidden_dim-1'}\n",
      "Data block num 500\n"
     ]
    },
    {
     "name": "stderr",
     "output_type": "stream",
     "text": [
      "/Users/carlos/pd/tinyRNN/agents/RNNAgentTrainer.py:137: FutureWarning: `torch.cuda.amp.GradScaler(args...)` is deprecated. Please use `torch.amp.GradScaler('cuda', args...)` instead.\n",
      "  self.scaler = torch.cuda.amp.GradScaler(enabled=self.use_amp)\n"
     ]
    },
    {
     "name": "stdout",
     "output_type": "stream",
     "text": [
      "Start 4 agents training with 1 processes.\n"
     ]
    },
    {
     "name": "stderr",
     "output_type": "stream",
     "text": [
      "  0%|          | 20/10001 [00:00<00:51, 192.67it/s]"
     ]
    },
    {
     "name": "stdout",
     "output_type": "stream",
     "text": [
      "Epoch 0, train loss 0.7083, val loss 0.7008, test loss 0.7173\n"
     ]
    },
    {
     "name": "stderr",
     "output_type": "stream",
     "text": [
      "  1%|▏         | 149/10001 [00:00<00:38, 256.76it/s]"
     ]
    },
    {
     "name": "stdout",
     "output_type": "stream",
     "text": [
      "Epoch 100, train loss 0.6289, val loss 0.6249, test loss 0.6294\n"
     ]
    },
    {
     "name": "stderr",
     "output_type": "stream",
     "text": [
      "  2%|▏         | 229/10001 [00:00<00:37, 262.01it/s]"
     ]
    },
    {
     "name": "stdout",
     "output_type": "stream",
     "text": [
      "Epoch 200, train loss 0.6036, val loss 0.5998, test loss 0.6047\n"
     ]
    },
    {
     "name": "stderr",
     "output_type": "stream",
     "text": [
      "  3%|▎         | 340/10001 [00:01<00:36, 265.37it/s]"
     ]
    },
    {
     "name": "stdout",
     "output_type": "stream",
     "text": [
      "Epoch 300, train loss 0.5978, val loss 0.5952, test loss 0.6007\n"
     ]
    },
    {
     "name": "stderr",
     "output_type": "stream",
     "text": [
      "  4%|▍         | 447/10001 [00:01<00:37, 256.18it/s]"
     ]
    },
    {
     "name": "stdout",
     "output_type": "stream",
     "text": [
      "Epoch 400, train loss 0.5952, val loss 0.5936, test loss 0.5992\n"
     ]
    },
    {
     "name": "stderr",
     "output_type": "stream",
     "text": [
      "  5%|▌         | 527/10001 [00:02<00:39, 242.66it/s]"
     ]
    },
    {
     "name": "stdout",
     "output_type": "stream",
     "text": [
      "Epoch 500, train loss 0.5938, val loss 0.5929, test loss 0.5985\n"
     ]
    },
    {
     "name": "stderr",
     "output_type": "stream",
     "text": [
      "  6%|▋         | 628/10001 [00:02<00:39, 234.92it/s]"
     ]
    },
    {
     "name": "stdout",
     "output_type": "stream",
     "text": [
      "Epoch 600, train loss 0.5928, val loss 0.5924, test loss 0.5979\n"
     ]
    },
    {
     "name": "stderr",
     "output_type": "stream",
     "text": [
      "  7%|▋         | 737/10001 [00:02<00:35, 257.95it/s]"
     ]
    },
    {
     "name": "stdout",
     "output_type": "stream",
     "text": [
      "Epoch 700, train loss 0.5920, val loss 0.5919, test loss 0.5972\n"
     ]
    },
    {
     "name": "stderr",
     "output_type": "stream",
     "text": [
      "  8%|▊         | 818/10001 [00:03<00:39, 231.41it/s]"
     ]
    },
    {
     "name": "stdout",
     "output_type": "stream",
     "text": [
      "Epoch 800, train loss 0.5913, val loss 0.5915, test loss 0.5966\n"
     ]
    },
    {
     "name": "stderr",
     "output_type": "stream",
     "text": [
      "  9%|▉         | 940/10001 [00:03<00:42, 214.68it/s]"
     ]
    },
    {
     "name": "stdout",
     "output_type": "stream",
     "text": [
      "Epoch 900, train loss 0.5909, val loss 0.5912, test loss 0.5962\n"
     ]
    },
    {
     "name": "stderr",
     "output_type": "stream",
     "text": [
      " 10%|█         | 1048/10001 [00:04<00:34, 256.28it/s]"
     ]
    },
    {
     "name": "stdout",
     "output_type": "stream",
     "text": [
      "Epoch 1000, train loss 0.5906, val loss 0.5911, test loss 0.5959\n"
     ]
    },
    {
     "name": "stderr",
     "output_type": "stream",
     "text": [
      " 11%|█▏        | 1130/10001 [00:04<00:33, 265.64it/s]"
     ]
    },
    {
     "name": "stdout",
     "output_type": "stream",
     "text": [
      "Epoch 1100, train loss 0.5904, val loss 0.5910, test loss 0.5958\n"
     ]
    },
    {
     "name": "stderr",
     "output_type": "stream",
     "text": [
      " 12%|█▏        | 1246/10001 [00:05<00:31, 278.88it/s]"
     ]
    },
    {
     "name": "stdout",
     "output_type": "stream",
     "text": [
      "Epoch 1200, train loss 0.5902, val loss 0.5910, test loss 0.5956\n"
     ]
    },
    {
     "name": "stderr",
     "output_type": "stream",
     "text": [
      " 13%|█▎        | 1331/10001 [00:05<00:31, 278.97it/s]"
     ]
    },
    {
     "name": "stdout",
     "output_type": "stream",
     "text": [
      "Epoch 1300, train loss 0.5899, val loss 0.5910, test loss 0.5953\n"
     ]
    },
    {
     "name": "stderr",
     "output_type": "stream",
     "text": [
      " 14%|█▎        | 1365/10001 [00:05<00:34, 249.23it/s]\n",
      "/Users/carlos/pd/tinyRNN/agents/RNNAgent.py:50: FutureWarning: You are using `torch.load` with `weights_only=False` (the current default value), which uses the default pickle module implicitly. It is possible to construct malicious pickle data which will execute arbitrary code during unpickling (See https://github.com/pytorch/pytorch/blob/main/SECURITY.md#untrusted-models for more details). In a future release, the default value for `weights_only` will be flipped to `True`. This limits the functions that could be executed during unpickling. Arbitrary objects will no longer be allowed to be loaded via this mode unless they are explicitly allowlisted by the user via `torch.serialization.add_safe_globals`. We recommend you start setting `weights_only=True` for any use case where you don't have full control of the loaded file. Please open an issue on GitHub for any issues related to this experimental feature.\n",
      "  state_dict = torch.load(MODEL_SAVE_PATH / model_path / 'model.ckpt', map_location=torch.device(self.config['device']))\n"
     ]
    },
    {
     "name": "stdout",
     "output_type": "stream",
     "text": [
      "Model outerfold0_innerfold0_seed0 Training done. time cost: 5.509942054748535 best train loss: 0.590229854543221 best val loss: 0.5909587764086706 best test loss: 0.5956446974885891\n",
      "Agent sim_mf/hidden_dim-1/outerfold0_innerfold0_seed1 already trained. Skip training.\n",
      "Agent sim_mf/hidden_dim-1/outerfold0_innerfold1_seed0 already trained. Skip training.\n",
      "Agent sim_mf/hidden_dim-1/outerfold0_innerfold1_seed1 already trained. Skip training.\n",
      "Finished 4 agents training with 1 processes. Time used: 5.647s\n",
      "   outer_fold  inner_fold  seed  test_loss  trainval_loss  train_loss  val_loss  test_trial_num  trainval_trial_num  train_trial_num  val_trial_num                                         test_index                                        train_index                                          val_index                                       model_path                                             config\n",
      "0           0           0     0   0.595645       0.590595    0.590230  0.590959          3340.0              6660.0           3320.0         3340.0  [4, 5, 6, 11, 13, 17, 18, 23, 29, 31, 34, 39, ...  [0, 2, 3, 7, 14, 15, 16, 20, 21, 27, 33, 35, 3...  [1, 8, 9, 10, 12, 19, 22, 24, 25, 26, 28, 30, ...  sim_mf/hidden_dim-1/outerfold0_innerfold0_seed0  {'dataset': 'SimAgent', 'behav_data_spec': {'a...\n",
      "1           0           0     1   0.593852       0.589871    0.589125  0.590612          3340.0              6660.0           3320.0         3340.0  [4, 5, 6, 11, 13, 17, 18, 23, 29, 31, 34, 39, ...  [0, 2, 3, 7, 14, 15, 16, 20, 21, 27, 33, 35, 3...  [1, 8, 9, 10, 12, 19, 22, 24, 25, 26, 28, 30, ...  sim_mf/hidden_dim-1/outerfold0_innerfold0_seed1  {'dataset': 'SimAgent', 'behav_data_spec': {'a...\n",
      "2           0           1     0   0.594841       0.590114    0.587417  0.592826          3340.0              6660.0           3340.0         3320.0  [4, 5, 6, 11, 13, 17, 18, 23, 29, 31, 34, 39, ...  [1, 8, 9, 10, 12, 19, 22, 24, 25, 26, 28, 30, ...  [0, 2, 3, 7, 14, 15, 16, 20, 21, 27, 33, 35, 3...  sim_mf/hidden_dim-1/outerfold0_innerfold1_seed0  {'dataset': 'SimAgent', 'behav_data_spec': {'a...\n",
      "3           0           1     1   0.595034       0.590090    0.586568  0.593633          3340.0              6660.0           3340.0         3320.0  [4, 5, 6, 11, 13, 17, 18, 23, 29, 31, 34, 39, ...  [1, 8, 9, 10, 12, 19, 22, 24, 25, 26, 28, 30, ...  [0, 2, 3, 7, 14, 15, 16, 20, 21, 27, 33, 35, 3...  sim_mf/hidden_dim-1/outerfold0_innerfold1_seed1  {'dataset': 'SimAgent', 'behav_data_spec': {'a...\n",
      "Already existing  D:\\cognitive_dynamics\\saved_model/sim_mf/hidden_dim-1/outerfold1_summary.pkl\n",
      "Already existing  D:\\cognitive_dynamics\\saved_model/sim_mf/hidden_dim-1/outerfold2_summary.pkl\n",
      "Already existing  D:\\cognitive_dynamics\\saved_model/sim_mf/hidden_dim-2/allfold_summary.pkl\n"
     ]
    }
   ],
   "source": [
    "from training_experiments.training import behavior_cv_training_config_combination\n",
    "\n",
    "base_config = {\n",
    "      ### dataset info\n",
    "      'dataset': 'SimAgent',\n",
    "      'behav_data_spec': {\n",
    "        'agent_path': ['test'],\n",
    "        'agent_name': 'MF_seed42',\n",
    "      },\n",
    "\n",
    "      ### model info\n",
    "      'behav_format': 'tensor',\n",
    "      'agent_type': 'RNN',\n",
    "      'rnn_type': 'GRU', # which rnn layer to use\n",
    "      'include_embedding': False,\n",
    "      'input_dim': 3,\n",
    "      'hidden_dim': 2, # dimension of this rnn layer\n",
    "      'output_dim': 2, # dimension of action\n",
    "      'output_h0': True, # whether initial hidden state included in loss\n",
    "      'trainable_h0': False, # the agent's initial hidden state trainable or not\n",
    "      'readout_FC': True, # whether the readout layer is full connected or not\n",
    "      'one_hot': False, # whether the data input is one-hot or not\n",
    "\n",
    "      'device': 'cpu',\n",
    "      ### training info for one model\n",
    "      'lr': 0.005,\n",
    "      'l1_weight': 1e-5,\n",
    "      'weight_decay': 0,\n",
    "      'penalized_weight': 'rec',\n",
    "      'max_epoch_num': 10000,\n",
    "      'early_stop_counter': 200,\n",
    "      'batch_size': 0, # no mini-batch\n",
    "      ### training info for many models on dataset\n",
    "      'outer_splits': 3,\n",
    "      'inner_splits': 2,\n",
    "      # 'single_inner_fold': True,\n",
    "      'seed_num': 2,\n",
    "\n",
    "      ### additional training info\n",
    "      'save_model_pass': 'minimal', # 'full' for saving all results; 'minimal' for saving only the losses; 'none' for not saving results\n",
    "      'training_diagnose': [], # can be a list of diagnose function strings\n",
    "\n",
    "      ### current training exp path\n",
    "      'exp_folder': 'sim_mf',\n",
    "}\n",
    "\n",
    "config_ranges = { # keys are used to generate model names\n",
    "    #   'rnn_type': ['GRU'],\n",
    "      'hidden_dim': [1,2],\n",
    "    #   'l1_weight': [1e-5],\n",
    "}\n",
    "\n",
    "behavior_cv_training_config_combination(base_config, config_ranges, n_jobs=1, verbose_level=1)"
   ]
  },
  {
   "cell_type": "markdown",
   "id": "3ad5895c",
   "metadata": {},
   "source": [
    "# Identify best models"
   ]
  },
  {
   "cell_type": "code",
   "execution_count": 22,
   "id": "9f3c8596",
   "metadata": {},
   "outputs": [
    {
     "name": "stdout",
     "output_type": "stream",
     "text": [
      "========Select best models based on inner_fold_perf_key: trainval_loss exp_folder: sim_mf\n",
      "Searching for summary files...\n",
      "Found 2 summary files.\n",
      "Filtering by {'agent_type': 'RNN'}\n"
     ]
    },
    {
     "name": "stderr",
     "output_type": "stream",
     "text": [
      "100%|██████████| 2/2 [00:00<00:00, 952.39it/s]"
     ]
    },
    {
     "name": "stdout",
     "output_type": "stream",
     "text": [
      "sim_mf/hidden_dim-1/outerfold0_innerfold0_seed1\n",
      "Total trial num: 10000\n",
      "sim_mf/hidden_dim-1/outerfold0_innerfold1_seed0\n",
      "sim_mf/hidden_dim-1/outerfold1_innerfold0_seed0\n",
      "sim_mf/hidden_dim-1/outerfold1_innerfold1_seed1\n",
      "sim_mf/hidden_dim-1/outerfold2_innerfold0_seed1\n",
      "sim_mf/hidden_dim-1/outerfold2_innerfold1_seed0\n",
      "sim_mf/hidden_dim-2/outerfold0_innerfold0_seed0\n",
      "sim_mf/hidden_dim-2/outerfold0_innerfold1_seed1\n",
      "sim_mf/hidden_dim-2/outerfold1_innerfold0_seed0\n",
      "sim_mf/hidden_dim-2/outerfold1_innerfold1_seed0\n",
      "sim_mf/hidden_dim-2/outerfold2_innerfold0_seed0\n",
      "sim_mf/hidden_dim-2/outerfold2_innerfold1_seed1\n"
     ]
    },
    {
     "name": "stderr",
     "output_type": "stream",
     "text": [
      "\n",
      "/Users/carlos/pd/tinyRNN/agents/RNNAgent.py:50: FutureWarning: You are using `torch.load` with `weights_only=False` (the current default value), which uses the default pickle module implicitly. It is possible to construct malicious pickle data which will execute arbitrary code during unpickling (See https://github.com/pytorch/pytorch/blob/main/SECURITY.md#untrusted-models for more details). In a future release, the default value for `weights_only` will be flipped to `True`. This limits the functions that could be executed during unpickling. Arbitrary objects will no longer be allowed to be loaded via this mode unless they are explicitly allowlisted by the user via `torch.serialization.add_safe_globals`. We recommend you start setting `weights_only=True` for any use case where you don't have full control of the loaded file. Please open an issue on GitHub for any issues related to this experimental feature.\n",
      "  state_dict = torch.load(MODEL_SAVE_PATH / model_path / 'model.ckpt', map_location=torch.device(self.config['device']))\n",
      "/Users/carlos/pd/tinyRNN/agents/RNNAgent.py:50: FutureWarning: You are using `torch.load` with `weights_only=False` (the current default value), which uses the default pickle module implicitly. It is possible to construct malicious pickle data which will execute arbitrary code during unpickling (See https://github.com/pytorch/pytorch/blob/main/SECURITY.md#untrusted-models for more details). In a future release, the default value for `weights_only` will be flipped to `True`. This limits the functions that could be executed during unpickling. Arbitrary objects will no longer be allowed to be loaded via this mode unless they are explicitly allowlisted by the user via `torch.serialization.add_safe_globals`. We recommend you start setting `weights_only=True` for any use case where you don't have full control of the loaded file. Please open an issue on GitHub for any issues related to this experimental feature.\n",
      "  state_dict = torch.load(MODEL_SAVE_PATH / model_path / 'model.ckpt', map_location=torch.device(self.config['device']))\n",
      "/Users/carlos/pd/tinyRNN/agents/RNNAgent.py:50: FutureWarning: You are using `torch.load` with `weights_only=False` (the current default value), which uses the default pickle module implicitly. It is possible to construct malicious pickle data which will execute arbitrary code during unpickling (See https://github.com/pytorch/pytorch/blob/main/SECURITY.md#untrusted-models for more details). In a future release, the default value for `weights_only` will be flipped to `True`. This limits the functions that could be executed during unpickling. Arbitrary objects will no longer be allowed to be loaded via this mode unless they are explicitly allowlisted by the user via `torch.serialization.add_safe_globals`. We recommend you start setting `weights_only=True` for any use case where you don't have full control of the loaded file. Please open an issue on GitHub for any issues related to this experimental feature.\n",
      "  state_dict = torch.load(MODEL_SAVE_PATH / model_path / 'model.ckpt', map_location=torch.device(self.config['device']))\n",
      "/Users/carlos/pd/tinyRNN/agents/RNNAgent.py:50: FutureWarning: You are using `torch.load` with `weights_only=False` (the current default value), which uses the default pickle module implicitly. It is possible to construct malicious pickle data which will execute arbitrary code during unpickling (See https://github.com/pytorch/pytorch/blob/main/SECURITY.md#untrusted-models for more details). In a future release, the default value for `weights_only` will be flipped to `True`. This limits the functions that could be executed during unpickling. Arbitrary objects will no longer be allowed to be loaded via this mode unless they are explicitly allowlisted by the user via `torch.serialization.add_safe_globals`. We recommend you start setting `weights_only=True` for any use case where you don't have full control of the loaded file. Please open an issue on GitHub for any issues related to this experimental feature.\n",
      "  state_dict = torch.load(MODEL_SAVE_PATH / model_path / 'model.ckpt', map_location=torch.device(self.config['device']))\n",
      "/Users/carlos/pd/tinyRNN/agents/RNNAgent.py:50: FutureWarning: You are using `torch.load` with `weights_only=False` (the current default value), which uses the default pickle module implicitly. It is possible to construct malicious pickle data which will execute arbitrary code during unpickling (See https://github.com/pytorch/pytorch/blob/main/SECURITY.md#untrusted-models for more details). In a future release, the default value for `weights_only` will be flipped to `True`. This limits the functions that could be executed during unpickling. Arbitrary objects will no longer be allowed to be loaded via this mode unless they are explicitly allowlisted by the user via `torch.serialization.add_safe_globals`. We recommend you start setting `weights_only=True` for any use case where you don't have full control of the loaded file. Please open an issue on GitHub for any issues related to this experimental feature.\n",
      "  state_dict = torch.load(MODEL_SAVE_PATH / model_path / 'model.ckpt', map_location=torch.device(self.config['device']))\n",
      "/Users/carlos/pd/tinyRNN/agents/RNNAgent.py:50: FutureWarning: You are using `torch.load` with `weights_only=False` (the current default value), which uses the default pickle module implicitly. It is possible to construct malicious pickle data which will execute arbitrary code during unpickling (See https://github.com/pytorch/pytorch/blob/main/SECURITY.md#untrusted-models for more details). In a future release, the default value for `weights_only` will be flipped to `True`. This limits the functions that could be executed during unpickling. Arbitrary objects will no longer be allowed to be loaded via this mode unless they are explicitly allowlisted by the user via `torch.serialization.add_safe_globals`. We recommend you start setting `weights_only=True` for any use case where you don't have full control of the loaded file. Please open an issue on GitHub for any issues related to this experimental feature.\n",
      "  state_dict = torch.load(MODEL_SAVE_PATH / model_path / 'model.ckpt', map_location=torch.device(self.config['device']))\n",
      "/Users/carlos/pd/tinyRNN/agents/RNNAgent.py:50: FutureWarning: You are using `torch.load` with `weights_only=False` (the current default value), which uses the default pickle module implicitly. It is possible to construct malicious pickle data which will execute arbitrary code during unpickling (See https://github.com/pytorch/pytorch/blob/main/SECURITY.md#untrusted-models for more details). In a future release, the default value for `weights_only` will be flipped to `True`. This limits the functions that could be executed during unpickling. Arbitrary objects will no longer be allowed to be loaded via this mode unless they are explicitly allowlisted by the user via `torch.serialization.add_safe_globals`. We recommend you start setting `weights_only=True` for any use case where you don't have full control of the loaded file. Please open an issue on GitHub for any issues related to this experimental feature.\n",
      "  state_dict = torch.load(MODEL_SAVE_PATH / model_path / 'model.ckpt', map_location=torch.device(self.config['device']))\n",
      "/Users/carlos/pd/tinyRNN/agents/RNNAgent.py:50: FutureWarning: You are using `torch.load` with `weights_only=False` (the current default value), which uses the default pickle module implicitly. It is possible to construct malicious pickle data which will execute arbitrary code during unpickling (See https://github.com/pytorch/pytorch/blob/main/SECURITY.md#untrusted-models for more details). In a future release, the default value for `weights_only` will be flipped to `True`. This limits the functions that could be executed during unpickling. Arbitrary objects will no longer be allowed to be loaded via this mode unless they are explicitly allowlisted by the user via `torch.serialization.add_safe_globals`. We recommend you start setting `weights_only=True` for any use case where you don't have full control of the loaded file. Please open an issue on GitHub for any issues related to this experimental feature.\n",
      "  state_dict = torch.load(MODEL_SAVE_PATH / model_path / 'model.ckpt', map_location=torch.device(self.config['device']))\n",
      "/Users/carlos/pd/tinyRNN/agents/RNNAgent.py:50: FutureWarning: You are using `torch.load` with `weights_only=False` (the current default value), which uses the default pickle module implicitly. It is possible to construct malicious pickle data which will execute arbitrary code during unpickling (See https://github.com/pytorch/pytorch/blob/main/SECURITY.md#untrusted-models for more details). In a future release, the default value for `weights_only` will be flipped to `True`. This limits the functions that could be executed during unpickling. Arbitrary objects will no longer be allowed to be loaded via this mode unless they are explicitly allowlisted by the user via `torch.serialization.add_safe_globals`. We recommend you start setting `weights_only=True` for any use case where you don't have full control of the loaded file. Please open an issue on GitHub for any issues related to this experimental feature.\n",
      "  state_dict = torch.load(MODEL_SAVE_PATH / model_path / 'model.ckpt', map_location=torch.device(self.config['device']))\n",
      "/Users/carlos/pd/tinyRNN/agents/RNNAgent.py:50: FutureWarning: You are using `torch.load` with `weights_only=False` (the current default value), which uses the default pickle module implicitly. It is possible to construct malicious pickle data which will execute arbitrary code during unpickling (See https://github.com/pytorch/pytorch/blob/main/SECURITY.md#untrusted-models for more details). In a future release, the default value for `weights_only` will be flipped to `True`. This limits the functions that could be executed during unpickling. Arbitrary objects will no longer be allowed to be loaded via this mode unless they are explicitly allowlisted by the user via `torch.serialization.add_safe_globals`. We recommend you start setting `weights_only=True` for any use case where you don't have full control of the loaded file. Please open an issue on GitHub for any issues related to this experimental feature.\n",
      "  state_dict = torch.load(MODEL_SAVE_PATH / model_path / 'model.ckpt', map_location=torch.device(self.config['device']))\n",
      "/Users/carlos/pd/tinyRNN/agents/RNNAgent.py:50: FutureWarning: You are using `torch.load` with `weights_only=False` (the current default value), which uses the default pickle module implicitly. It is possible to construct malicious pickle data which will execute arbitrary code during unpickling (See https://github.com/pytorch/pytorch/blob/main/SECURITY.md#untrusted-models for more details). In a future release, the default value for `weights_only` will be flipped to `True`. This limits the functions that could be executed during unpickling. Arbitrary objects will no longer be allowed to be loaded via this mode unless they are explicitly allowlisted by the user via `torch.serialization.add_safe_globals`. We recommend you start setting `weights_only=True` for any use case where you don't have full control of the loaded file. Please open an issue on GitHub for any issues related to this experimental feature.\n",
      "  state_dict = torch.load(MODEL_SAVE_PATH / model_path / 'model.ckpt', map_location=torch.device(self.config['device']))\n",
      "/Users/carlos/pd/tinyRNN/agents/RNNAgent.py:50: FutureWarning: You are using `torch.load` with `weights_only=False` (the current default value), which uses the default pickle module implicitly. It is possible to construct malicious pickle data which will execute arbitrary code during unpickling (See https://github.com/pytorch/pytorch/blob/main/SECURITY.md#untrusted-models for more details). In a future release, the default value for `weights_only` will be flipped to `True`. This limits the functions that could be executed during unpickling. Arbitrary objects will no longer be allowed to be loaded via this mode unless they are explicitly allowlisted by the user via `torch.serialization.add_safe_globals`. We recommend you start setting `weights_only=True` for any use case where you don't have full control of the loaded file. Please open an issue on GitHub for any issues related to this experimental feature.\n",
      "  state_dict = torch.load(MODEL_SAVE_PATH / model_path / 'model.ckpt', map_location=torch.device(self.config['device']))\n"
     ]
    },
    {
     "name": "stdout",
     "output_type": "stream",
     "text": [
      "   block  test_loss  trainval_loss  train_loss  val_loss  test_acc  trainval_acc  train_acc  val_acc  hidden_dim rnn_type  readout_FC distill pretrained distill_temp teacher_prop agg_outer_fold                                                 agg_test_loss  total_test_loss  test_trial_num  total_trainval_loss  trainval_trial_num  total_train_loss  train_trial_num  total_val_loss  val_trial_num  test_loss_outer_std  test_loss_outer_sem  mean_train_trial_num  mean_val_trial_num                                                  agg_test_acc  total_test_acc  total_trainval_acc  total_train_acc  total_val_acc  test_acc_outer_std  test_acc_outer_sem  test_loss_mean_inner_sem  test_loss_outer_inner_sem  test_acc_mean_inner_sem  test_acc_outer_inner_sem\n",
      "0     -1   0.591478       0.589980    0.588522  0.591438    0.6823       0.68080     0.6831   0.6785           1      GRU        True    none       none         none         none      [0, 1, 2]  [0.5938518921940109, 0.5964991126230937, 0.5840396848674679]      5914.784110         10000.0         11799.607152             20000.0       5885.223619          10000.0     5914.383533        10000.0             0.006564             0.003790           3333.333333         3333.333333   [0.677245508982036, 0.6784431137724551, 0.6912650602409639]          6823.0             13616.0           6831.0         6785.0            0.007772            0.004487                  0.000760                   0.002797                  0.00165                  0.002711\n",
      "1     -1   0.576923       0.573038    0.559014  0.587062    0.6873       0.69255     0.7070   0.6781           2      GRU        True    none       none         none         none      [0, 1, 2]  [0.5797139836291499, 0.5835179419469605, 0.5674794405112259]      5769.226374         10000.0         11460.764384             20000.0       5590.142611          10000.0     5870.621773        10000.0             0.008380             0.004838           3333.333333         3333.333333  [0.6847305389221557, 0.6853293413173652, 0.6918674698795181]          6873.0             13851.0           7070.0         6781.0            0.003959            0.002286                  0.000441                   0.002889                  0.00145                  0.001861\n",
      "Estimated dimensionality:\n",
      "   block rnn_type  hidden_dim  less_than_former  test_loss less_pvalue\n",
      "0     -1      GRU           1                 1   0.591478  [1.0, 1.0]\n",
      "1     -1      GRU           2                 1   0.576923  [0.0, 1.0]\n"
     ]
    }
   ],
   "source": [
    "from analyzing_experiments.analyzing_perf import find_best_models_for_exp\n",
    "\n",
    "exp_folder = 'sim_mf'\n",
    "find_best_models_for_exp(\n",
    "    exp_folder, 'MABCog',\n",
    "    additional_rnn_keys={'model_identifier_keys': ['block','distill','pretrained', 'distill_temp','teacher_prop',],},\n",
    "    rnn_sort_keys=['block', 'hidden_dim'],\n",
    "    has_rnn=True,\n",
    "    has_cog=False,\n",
    "    return_dim_est=True,\n",
    "    include_acc=True,\n",
    "    check_missing=False,\n",
    ")\n"
   ]
  },
  {
   "cell_type": "markdown",
   "id": "cd3abd00",
   "metadata": {},
   "source": [
    "# Get model scores\n",
    "\n",
    "This gets the predictions from models, making sure to get the appropriate model for each fold of the data."
   ]
  },
  {
   "cell_type": "code",
   "execution_count": 23,
   "id": "c705077d",
   "metadata": {},
   "outputs": [
    {
     "name": "stdout",
     "output_type": "stream",
     "text": [
      "files/analysis/sim_mf\n",
      "filter rnn_summary by distill=none\n",
      "filter rnn_summary by rnn_type=GRU\n",
      "sim_mf/hidden_dim-1/outerfold0_innerfold0_seed1\n",
      "Total trial num: 10000\n",
      "sim_mf/hidden_dim-1/outerfold1_innerfold1_seed1\n"
     ]
    },
    {
     "name": "stderr",
     "output_type": "stream",
     "text": [
      "/Users/carlos/pd/tinyRNN/agents/RNNAgent.py:50: FutureWarning: You are using `torch.load` with `weights_only=False` (the current default value), which uses the default pickle module implicitly. It is possible to construct malicious pickle data which will execute arbitrary code during unpickling (See https://github.com/pytorch/pytorch/blob/main/SECURITY.md#untrusted-models for more details). In a future release, the default value for `weights_only` will be flipped to `True`. This limits the functions that could be executed during unpickling. Arbitrary objects will no longer be allowed to be loaded via this mode unless they are explicitly allowlisted by the user via `torch.serialization.add_safe_globals`. We recommend you start setting `weights_only=True` for any use case where you don't have full control of the loaded file. Please open an issue on GitHub for any issues related to this experimental feature.\n",
      "  state_dict = torch.load(MODEL_SAVE_PATH / model_path / 'model.ckpt', map_location=torch.device(self.config['device']))\n"
     ]
    },
    {
     "name": "stdout",
     "output_type": "stream",
     "text": [
      "Total trial num: 10000\n",
      "sim_mf/hidden_dim-1/outerfold2_innerfold1_seed0\n",
      "Total trial num: 10000\n",
      "sim_mf/hidden_dim-2/outerfold0_innerfold0_seed0\n",
      "Total trial num: 10000\n",
      "sim_mf/hidden_dim-2/outerfold1_innerfold1_seed0\n",
      "Total trial num: 10000\n",
      "sim_mf/hidden_dim-2/outerfold2_innerfold0_seed0\n",
      "Total trial num: 10000\n"
     ]
    }
   ],
   "source": [
    "from analyzing_experiments.analyzing_perf import run_scores_exp\n",
    "\n",
    "run_scores_exp(\n",
    "    exp_folder, demask=False,\n",
    "    pointwise_loss=False,\n",
    "    model_filter={'distill': 'none', 'rnn_type': 'GRU'},\n",
    "    overwrite_config={\n",
    "        # 'behav_data_spec': {'augment': True},\n",
    "        'device': 'cpu',\n",
    "    },\n",
    "    include_data='all',\n",
    "    has_cog=False,\n",
    ")\n"
   ]
  },
  {
   "cell_type": "markdown",
   "id": "52c26a69",
   "metadata": {},
   "source": [
    "# Make a logit plot"
   ]
  },
  {
   "cell_type": "code",
   "execution_count": 24,
   "id": "17866d60",
   "metadata": {},
   "outputs": [
    {
     "name": "stdout",
     "output_type": "stream",
     "text": [
      "In sim_mf. Found 6 models\n",
      "Found 6 models after filtering\n",
      "sim_mf/hidden_dim-1/outerfold0_innerfold0_seed1 making ['2d_logit_change']\n"
     ]
    },
    {
     "data": {
      "image/png": "[encoded data removed]",
      "text/plain": [
       "<Figure size 150x150 with 1 Axes>"
      ]
     },
     "metadata": {},
     "output_type": "display_data"
    },
    {
     "name": "stdout",
     "output_type": "stream",
     "text": [
      "sim_mf/hidden_dim-1/outerfold1_innerfold1_seed1 making ['2d_logit_change']\n"
     ]
    },
    {
     "data": {
      "image/png": "[encoded data removed]",
      "text/plain": [
       "<Figure size 150x150 with 1 Axes>"
      ]
     },
     "metadata": {},
     "output_type": "display_data"
    },
    {
     "name": "stdout",
     "output_type": "stream",
     "text": [
      "sim_mf/hidden_dim-1/outerfold2_innerfold1_seed0 making ['2d_logit_change']\n"
     ]
    },
    {
     "data": {
      "image/png": "[encoded data removed]",
      "text/plain": [
       "<Figure size 150x150 with 1 Axes>"
      ]
     },
     "metadata": {},
     "output_type": "display_data"
    },
    {
     "name": "stdout",
     "output_type": "stream",
     "text": [
      "sim_mf/hidden_dim-2/outerfold0_innerfold0_seed0 making ['2d_logit_change']\n"
     ]
    },
    {
     "data": {
      "image/png": "[encoded data removed]",
      "text/plain": [
       "<Figure size 150x150 with 1 Axes>"
      ]
     },
     "metadata": {},
     "output_type": "display_data"
    },
    {
     "name": "stdout",
     "output_type": "stream",
     "text": [
      "sim_mf/hidden_dim-2/outerfold1_innerfold1_seed0 making ['2d_logit_change']\n"
     ]
    },
    {
     "data": {
      "image/png": "[encoded data removed]",
      "text/plain": [
       "<Figure size 150x150 with 1 Axes>"
      ]
     },
     "metadata": {},
     "output_type": "display_data"
    },
    {
     "name": "stdout",
     "output_type": "stream",
     "text": [
      "sim_mf/hidden_dim-2/outerfold2_innerfold0_seed0 making ['2d_logit_change']\n"
     ]
    },
    {
     "data": {
      "image/png": "[encoded data removed]",
      "text/plain": [
       "<Figure size 150x150 with 1 Axes>"
      ]
     },
     "metadata": {},
     "output_type": "display_data"
    }
   ],
   "source": [
    "from plotting_experiments.plotting_dynamics import plot_all_models_value_change\n",
    "\n",
    "dynamics_plot_pipeline = [\n",
    "    '2d_logit_change', # logit vs logit change\n",
    "]\n",
    "plot_all_models_value_change(\n",
    "    exp_folder, plots=dynamics_plot_pipeline, save_pdf=True)"
   ]
  },
  {
   "cell_type": "code",
   "execution_count": null,
   "id": "c776a72f",
   "metadata": {},
   "outputs": [],
   "source": []
  }
 ],
 "metadata": {
  "kernelspec": {
   "display_name": "env",
   "language": "python",
   "name": "python3"
  },
  "language_info": {
   "codemirror_mode": {
    "name": "ipython",
    "version": 3
   },
   "file_extension": ".py",
   "mimetype": "text/x-python",
   "name": "python",
   "nbconvert_exporter": "python",
   "pygments_lexer": "ipython3",
   "version": "3.12.2"
  }
 },
 "nbformat": 4,
 "nbformat_minor": 5
}
